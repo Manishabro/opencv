{
 "cells": [
  {
   "cell_type": "code",
   "execution_count": 1,
   "id": "e73757c8-f866-446c-a901-166a04c928e7",
   "metadata": {},
   "outputs": [],
   "source": [
    "# Translation\n",
    "import cv2\n",
    "import numpy as np\n",
    "\n",
    "# Load the image\n",
    "image_path = \"Untitled.jpeg\"\n",
    "image = cv2.imread(image_path)\n",
    "# Define the translation matrix\n",
    "tx, ty = 100, 50  # Translation along x and y axis\n",
    "translation_matrix = np.float32([[1, 0, tx], [0, 1, ty]])\n",
    "\n",
    "# Apply the translation\n",
    "translated_image = cv2.warpAffine(image, translation_matrix, (image.shape[1], image.shape[0]))\n",
    "# Display the translated image\n",
    "cv2.imshow(\"Translated Image\", translated_image)\n",
    "cv2.waitKey(0)\n",
    "cv2.destroyAllWindows()"
   ]
  },
  {
   "cell_type": "code",
   "execution_count": 2,
   "id": "7e596cdf-e0e8-4933-8e26-e4fcdd050e19",
   "metadata": {},
   "outputs": [],
   "source": [
    "# Rotation\n",
    "\n",
    "import cv2\n",
    "# Load the image\n",
    "image_path = \"Untitled.jpeg\"\n",
    "image = cv2.imread(image_path)\n",
    "\n",
    "    # Define the rotation matrix\n",
    "angle = 45  # Angle of rotation\n",
    "center = (image.shape[1] // 2, image.shape[0] // 2)  # Center of rotation\n",
    "rotation_matrix = cv2.getRotationMatrix2D(center, angle,1.0)\n",
    "\n",
    "    # Apply the rotation\n",
    "rotated_image = cv2.warpAffine(image, rotation_matrix, (image.shape[1], image.shape[0]))\n",
    "\n",
    "    # Display the rotated image\n",
    "cv2.imshow(\"Rotated Image\", rotated_image)\n",
    "cv2.waitKey(0)\n",
    "cv2.destroyAllWindows()"
   ]
  },
  {
   "cell_type": "code",
   "execution_count": 3,
   "id": "3dfc2bf6-ddcf-4558-8d6e-f53306bf640a",
   "metadata": {},
   "outputs": [],
   "source": [
    "# scaling\n",
    "import cv2\n",
    "\n",
    "# Load the image\n",
    "image_path = \"dog.jpeg\"\n",
    "image = cv2.imread(image_path)\n",
    "# Define the scaling factors\n",
    "scale_x, scale_y = 2, 2  # Scaling factors along x and y axis\n",
    "\n",
    "    # Apply the scaling\n",
    "scaled_image = cv2.resize(image, None, fx=scale_x, fy=scale_y, interpolation=cv2.INTER_LINEAR)\n",
    "\n",
    "    # Display the scaled image\n",
    "cv2.imshow(\"Scaled Image\", scaled_image)\n",
    "cv2.waitKey(0)\n",
    "cv2.destroyAllWindows()"
   ]
  },
  {
   "cell_type": "code",
   "execution_count": 4,
   "id": "a98dfde6-4899-4c8d-a008-29ea2ef62e15",
   "metadata": {},
   "outputs": [],
   "source": [
    "#Affine transformation\n",
    "import cv2\n",
    "import numpy as np\n",
    "\n",
    "# Load the image\n",
    "image_path = \"dog.jpeg\"\n",
    "image = cv2.imread(image_path)\n",
    "\n",
    "\n",
    "# Define points for affine transformation\n",
    "rows, cols, ch = image.shape\n",
    "pts1 = np.float32([[50, 50], [200, 50], [50, 200]])\n",
    "pts2 = np.float32([[10, 100], [200, 50], [100, 250]])\n",
    "\n",
    "    # Get the affine transform matrix\n",
    "affine_matrix = cv2.getAffineTransform(pts1, pts2)\n",
    "\n",
    "    # Apply the affine transformation\n",
    "affine_transformed_image = cv2.warpAffine(image, affine_matrix, (cols, rows))\n",
    "\n",
    "    # Display the affine transformed image\n",
    "cv2.imshow(\"Affine Transformed Image\", affine_transformed_image)\n",
    "cv2.waitKey(0)\n",
    "cv2.destroyAllWindows()"
   ]
  },
  {
   "cell_type": "code",
   "execution_count": null,
   "id": "d54316ce-f13f-46b0-9df2-fecfb55e94bd",
   "metadata": {},
   "outputs": [],
   "source": []
  },
  {
   "cell_type": "code",
   "execution_count": null,
   "id": "917db0c3-6893-4cdc-a2d8-0c4b37211d1f",
   "metadata": {},
   "outputs": [],
   "source": []
  },
  {
   "cell_type": "code",
   "execution_count": null,
   "id": "ab0c21a7-20c5-4126-8756-7f62ada341fa",
   "metadata": {},
   "outputs": [],
   "source": []
  }
 ],
 "metadata": {
  "kernelspec": {
   "display_name": "Python 3 (ipykernel)",
   "language": "python",
   "name": "python3"
  },
  "language_info": {
   "codemirror_mode": {
    "name": "ipython",
    "version": 3
   },
   "file_extension": ".py",
   "mimetype": "text/x-python",
   "name": "python",
   "nbconvert_exporter": "python",
   "pygments_lexer": "ipython3",
   "version": "3.8.2"
  }
 },
 "nbformat": 4,
 "nbformat_minor": 5
}
