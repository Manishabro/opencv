{
 "cells": [
  {
   "cell_type": "code",
   "execution_count": 5,
   "id": "8f256625-d034-4801-842a-3fe339ed8e99",
   "metadata": {},
   "outputs": [],
   "source": [
    "import cv2  \n",
    "  \n",
    "# read image using imread('path') and 0 denotes read as grayscale image  \n",
    "img = cv2.imread('Screenshot (1).png',1)\n",
    "\n",
    "# display image\n",
    "cv2.imshow('image',img)  \n",
    "  \n",
    "cv2.waitKey(0) \n",
    "cv2.destroyAllWindows()"
   ]
  },
  {
   "cell_type": "code",
   "execution_count": 6,
   "id": "d04d00e4-9d5a-490f-aa17-29e184ebc005",
   "metadata": {},
   "outputs": [
    {
     "name": "stdout",
     "output_type": "stream",
     "text": [
      "Type: <class 'numpy.ndarray'>\n",
      "Shape: (1080, 1920, 3)\n",
      "datatype uint8\n"
     ]
    }
   ],
   "source": [
    "#The image object img has stored the 3-dimensional numpy array of (225, 225, 3) shape. \n",
    "\n",
    "import cv2  \n",
    "  \n",
    "# read image \n",
    "img = cv2.imread('Screenshot (1).png')\n",
    "\n",
    "# display image\n",
    "cv2.imshow('image',img)  \n",
    "cv2.waitKey(0) \n",
    "cv2.destroyAllWindows()\n",
    "\n",
    "print('Type:',type(img))\n",
    "print('Shape:',img.shape)\n",
    "print('datatype',img.dtype)"
   ]
  },
  {
   "cell_type": "code",
   "execution_count": 7,
   "id": "a6fe3048-7fee-472e-a1bb-a810ed85a361",
   "metadata": {},
   "outputs": [
    {
     "data": {
      "text/plain": [
       "True"
      ]
     },
     "execution_count": 7,
     "metadata": {},
     "output_type": "execute_result"
    }
   ],
   "source": [
    "#The function returned the Boolean Value True which indicates the file \n",
    "\n",
    "#has been successfully written/saved with the specified name\n",
    "\n",
    "#import the numpay and opencv modules\n",
    "\n",
    "import numpy as np\n",
    "import cv2\n",
    "\n",
    "# create a 3-d numpy array\n",
    "blank_image2 = np.zeros((100,100,3), dtype=np.uint8)\n",
    "\n",
    "# save or create an image\n",
    "cv2.imwrite('dog.jpeg',blank_image2)"
   ]
  },
  {
   "cell_type": "code",
   "execution_count": 8,
   "id": "fcbeb788-c82f-4395-998c-e5bf3796f2cb",
   "metadata": {},
   "outputs": [],
   "source": [
    "# Drawing a circle\n",
    "\n",
    "import numpy as np\n",
    "import cv2\n",
    "\n",
    "# Read the image from the file\n",
    "img = cv2.imread(r'dog.jpeg', 1)\n",
    "\n",
    "# Draw a circle on the image\n",
    "cv2.circle(img, (40, 40), 55, (0, 255, 0), -1)\n",
    "\n",
    "# Display the image in a window\n",
    "cv2.imshow('image',img)\n",
    "\n",
    "# Wait indefinitely until a key is pressed\n",
    "cv2.waitKey(0)\n",
    "\n",
    "# Destroy all windows created by OpenCV\n",
    "cv2.destroyAllWindows()"
   ]
  },
  {
   "cell_type": "code",
   "execution_count": 64,
   "id": "2fabf023-9b7a-4635-8f78-a75634b0e835",
   "metadata": {},
   "outputs": [],
   "source": [
    "# Drawing a rectangle\n",
    "\n",
    "import numpy as np  \n",
    "import cv2  \n",
    "img = cv2.imread(r\"dog.jpeg\",1)  \n",
    "cv2.rectangle(img,(15,25),(200,150),(0,255,255),15)  \n",
    "cv2.imshow('image',img)  \n",
    "cv2.waitKey(0)  \n",
    "cv2.destroyAllWindows()"
   ]
  },
  {
   "cell_type": "code",
   "execution_count": 38,
   "id": "966d1af8-214f-402a-a788-64570a237b7c",
   "metadata": {},
   "outputs": [],
   "source": [
    "# Drawing a ellipse\n",
    "\n",
    "import numpy as np  \n",
    "import cv2  \n",
    "img = cv2.imread(r\"dog.jpeg\",1)  \n",
    "  \n",
    "cv2.ellipse(img, (35,35), (80, 20), 5, 0, 360, (0,0,255),-1)  \n",
    "cv2.imshow('image',img)  \n",
    "cv2.waitKey(0)  \n",
    "cv2.destroyAllWindows()"
   ]
  },
  {
   "cell_type": "code",
   "execution_count": 40,
   "id": "ba88b958-b097-4145-b3cd-a67e2b51fb35",
   "metadata": {},
   "outputs": [],
   "source": [
    "# Drawing a line\n",
    "\n",
    "import numpy as np  \n",
    "import cv2  \n",
    "img = cv2.imread(r\"dog.jpeg\",1)  \n",
    "cv2.line(img,(5,0),(150,150),(0,0,0),8)  \n",
    "cv2.imshow('image',img)  \n",
    "cv2.waitKey(0)  \n",
    "cv2.destroyAllWindows()"
   ]
  },
  {
   "cell_type": "code",
   "execution_count": 80,
   "id": "a78ff37a-c335-4a5f-9755-462d90613429",
   "metadata": {},
   "outputs": [],
   "source": [
    "# writing text\n",
    "import cv2\n",
    "\n",
    "# Load the image\n",
    "image_path = \"dog.jpeg\"\n",
    "image = cv2.imread(image_path)\n",
    "\n",
    "# Check if the image was loaded correctly\n",
    "if image is None:\n",
    "    print(\"Error: Image not loaded. Check the image path.\")\n",
    "else:\n",
    "    # Define the text and its properties\n",
    "    text = \"Hello, my pet!\"\n",
    "    position = (10, 20)  # Position (x, y)\n",
    "    font = cv2.FONT_HERSHEY_SIMPLEX  # Font type\n",
    "    font_scale = 1  # Font scale (size)\n",
    "    font_color = (255, 255, 255)  # Font color (B, G, R)\n",
    "    thickness = 2  # Thickness of the text\n",
    "\n",
    "    # Write the text on the image\n",
    "    cv2.putText(image, text, position, font, font_scale, font_color, thickness)\n",
    "\n",
    "    # Display the image\n",
    "    cv2.imshow(\"Image with Text\",image)\n",
    "    cv2.waitKey(0)\n",
    "    cv2.destroyAllWindows()\n",
    "\n",
    "    # Save the image with text\n",
    "    cv2.imwrite(\"image-with-text.png\",image)\n"
   ]
  },
  {
   "cell_type": "code",
   "execution_count": 75,
   "id": "bb957eb4-1749-43c3-aa28-596922c44625",
   "metadata": {},
   "outputs": [
    {
     "name": "stdout",
     "output_type": "stream",
     "text": [
      "Image shape: (194, 259, 3)\n"
     ]
    }
   ],
   "source": [
    "import cv2\n",
    "\n",
    "# Load the image\n",
    "image_path = \"Untitled.jpeg\"\n",
    "image = cv2.imread(image_path)\n",
    "\n",
    "# Check if the image was loaded correctly\n",
    "if image is None:\n",
    "    print(\"Error: Image not loaded. Check the image path.\")\n",
    "else:\n",
    "    # Print the shape of the image\n",
    "    print(\"Image shape:\",image.shape)\n",
    "\n",
    "    # Display the image\n",
    "    cv2.imshow(\"Image\",image)\n",
    "    cv2.waitKey(0)\n",
    "    cv2.destroyAllWindows()"
   ]
  },
  {
   "cell_type": "code",
   "execution_count": 3,
   "id": "0d6b6c7a-8094-48ef-a4e3-0a2cdfbd27ab",
   "metadata": {},
   "outputs": [
    {
     "name": "stdout",
     "output_type": "stream",
     "text": [
      "Defaulting to user installation because normal site-packages is not writeable\n",
      "Requirement already satisfied: opencv-python in c:\\users\\reval\\appdata\\roaming\\python\\python38\\site-packages (4.10.0.84)\n",
      "Requirement already satisfied: numpy>=1.17.0 in c:\\users\\reval\\appdata\\roaming\\python\\python38\\site-packages (from opencv-python) (1.24.4)\n",
      "Note: you may need to restart the kernel to use updated packages.\n"
     ]
    },
    {
     "name": "stderr",
     "output_type": "stream",
     "text": [
      "\n",
      "[notice] A new release of pip is available: 24.0 -> 24.1.2\n",
      "[notice] To update, run: c:\\program files\\python38\\python.exe -m pip install --upgrade pip\n"
     ]
    }
   ],
   "source": [
    "pip install opencv-python\n"
   ]
  },
  {
   "cell_type": "code",
   "execution_count": 4,
   "id": "3c3fc72e-2c2b-4118-a021-10fcc7f4a6c4",
   "metadata": {},
   "outputs": [
    {
     "name": "stdout",
     "output_type": "stream",
     "text": [
      "Defaulting to user installation because normal site-packages is not writeable\n",
      "Requirement already satisfied: pip in c:\\program files\\python38\\lib\\site-packages (24.0)\n",
      "Collecting pip\n",
      "  Downloading pip-24.1.2-py3-none-any.whl.metadata (3.6 kB)\n",
      "Downloading pip-24.1.2-py3-none-any.whl (1.8 MB)\n",
      "   ---------------------------------------- 0.0/1.8 MB ? eta -:--:--\n",
      "    --------------------------------------- 0.0/1.8 MB 1.4 MB/s eta 0:00:02\n",
      "   - -------------------------------------- 0.1/1.8 MB 991.0 kB/s eta 0:00:02\n",
      "   -- ------------------------------------- 0.1/1.8 MB 1.0 MB/s eta 0:00:02\n",
      "   ---- ----------------------------------- 0.2/1.8 MB 1.1 MB/s eta 0:00:02\n",
      "   ------ --------------------------------- 0.3/1.8 MB 1.4 MB/s eta 0:00:02\n",
      "   ------- -------------------------------- 0.3/1.8 MB 1.2 MB/s eta 0:00:02\n",
      "   --------- ------------------------------ 0.5/1.8 MB 1.3 MB/s eta 0:00:02\n",
      "   ------------ --------------------------- 0.6/1.8 MB 1.4 MB/s eta 0:00:01\n",
      "   -------------- ------------------------- 0.7/1.8 MB 1.5 MB/s eta 0:00:01\n",
      "   --------------- ------------------------ 0.7/1.8 MB 1.5 MB/s eta 0:00:01\n",
      "   ----------------- ---------------------- 0.8/1.8 MB 1.4 MB/s eta 0:00:01\n",
      "   ------------------- -------------------- 0.9/1.8 MB 1.5 MB/s eta 0:00:01\n",
      "   --------------------- ------------------ 1.0/1.8 MB 1.5 MB/s eta 0:00:01\n",
      "   ----------------------- ---------------- 1.1/1.8 MB 1.5 MB/s eta 0:00:01\n",
      "   ------------------------- -------------- 1.2/1.8 MB 1.6 MB/s eta 0:00:01\n",
      "   ---------------------------- ----------- 1.3/1.8 MB 1.7 MB/s eta 0:00:01\n",
      "   ------------------------------ --------- 1.4/1.8 MB 1.6 MB/s eta 0:00:01\n",
      "   ------------------------------- -------- 1.4/1.8 MB 1.7 MB/s eta 0:00:01\n",
      "   ----------------------------------- ---- 1.6/1.8 MB 1.7 MB/s eta 0:00:01\n",
      "   ------------------------------------ --- 1.7/1.8 MB 1.7 MB/s eta 0:00:01\n",
      "   ---------------------------------------  1.8/1.8 MB 1.7 MB/s eta 0:00:01\n",
      "   ---------------------------------------- 1.8/1.8 MB 1.7 MB/s eta 0:00:00\n",
      "Installing collected packages: pip\n",
      "Successfully installed pip-24.1.2\n",
      "Note: you may need to restart the kernel to use updated packages.\n"
     ]
    },
    {
     "name": "stderr",
     "output_type": "stream",
     "text": [
      "\n",
      "[notice] A new release of pip is available: 24.0 -> 24.1.2\n",
      "[notice] To update, run: c:\\program files\\python38\\python.exe -m pip install --upgrade pip\n"
     ]
    }
   ],
   "source": [
    "pip install --upgrade pip\n"
   ]
  },
  {
   "cell_type": "code",
   "execution_count": null,
   "id": "bb4ab400-ac70-4366-8b2d-3792816585ec",
   "metadata": {},
   "outputs": [],
   "source": []
  }
 ],
 "metadata": {
  "kernelspec": {
   "display_name": "Python 3 (ipykernel)",
   "language": "python",
   "name": "python3"
  },
  "language_info": {
   "codemirror_mode": {
    "name": "ipython",
    "version": 3
   },
   "file_extension": ".py",
   "mimetype": "text/x-python",
   "name": "python",
   "nbconvert_exporter": "python",
   "pygments_lexer": "ipython3",
   "version": "3.8.2"
  }
 },
 "nbformat": 4,
 "nbformat_minor": 5
}
