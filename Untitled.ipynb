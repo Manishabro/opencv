{
 "cells": [
  {
   "cell_type": "code",
   "execution_count": 1,
   "id": "a078d32f-a806-472d-9b5f-06f413610c1b",
   "metadata": {},
   "outputs": [
    {
     "name": "stdout",
     "output_type": "stream",
     "text": [
      "Defaulting to user installation because normal site-packages is not writeable\n",
      "Requirement already satisfied: opencv-python in c:\\users\\reval\\appdata\\roaming\\python\\python38\\site-packages (4.10.0.84)\n",
      "Requirement already satisfied: numpy>=1.17.0 in c:\\users\\reval\\appdata\\roaming\\python\\python38\\site-packages (from opencv-python) (1.24.4)\n",
      "Note: you may need to restart the kernel to use updated packages.\n"
     ]
    }
   ],
   "source": [
    "pip install opencv-python\n"
   ]
  },
  {
   "cell_type": "code",
   "execution_count": 1,
   "id": "38343925-51b9-4939-8358-9ec4f2c35ab6",
   "metadata": {},
   "outputs": [
    {
     "name": "stdout",
     "output_type": "stream",
     "text": [
      "Defaulting to user installation because normal site-packages is not writeable\n",
      "Collecting deepface\n",
      "  Using cached deepface-0.0.92-py3-none-any.whl.metadata (27 kB)\n",
      "Requirement already satisfied: requests>=2.27.1 in c:\\users\\reval\\appdata\\roaming\\python\\python38\\site-packages (from deepface) (2.31.0)\n",
      "Requirement already satisfied: numpy>=1.14.0 in c:\\users\\reval\\appdata\\roaming\\python\\python38\\site-packages (from deepface) (1.24.3)\n",
      "Requirement already satisfied: pandas>=0.23.4 in c:\\users\\reval\\appdata\\roaming\\python\\python38\\site-packages (from deepface) (2.0.3)\n",
      "Requirement already satisfied: gdown>=3.10.1 in c:\\users\\reval\\appdata\\roaming\\python\\python38\\site-packages (from deepface) (5.2.0)\n",
      "Requirement already satisfied: tqdm>=4.30.0 in c:\\users\\reval\\appdata\\roaming\\python\\python38\\site-packages (from deepface) (4.66.4)\n",
      "Requirement already satisfied: Pillow>=5.2.0 in c:\\users\\reval\\appdata\\roaming\\python\\python38\\site-packages (from deepface) (10.4.0)\n",
      "Requirement already satisfied: opencv-python>=4.5.5.64 in c:\\users\\reval\\appdata\\roaming\\python\\python38\\site-packages (from deepface) (4.10.0.84)\n",
      "Collecting tensorflow>=1.9.0 (from deepface)\n",
      "  Using cached tensorflow-2.13.1-cp38-cp38-win_amd64.whl.metadata (2.6 kB)\n",
      "Requirement already satisfied: keras>=2.2.0 in c:\\users\\reval\\appdata\\roaming\\python\\python38\\site-packages (from deepface) (2.13.1)\n",
      "Requirement already satisfied: Flask>=1.1.2 in c:\\users\\reval\\appdata\\roaming\\python\\python38\\site-packages (from deepface) (3.0.3)\n",
      "Requirement already satisfied: mtcnn>=0.1.0 in c:\\users\\reval\\appdata\\roaming\\python\\python38\\site-packages (from deepface) (0.1.1)\n",
      "Collecting retina-face>=0.0.1 (from deepface)\n",
      "  Using cached retina_face-0.0.17-py3-none-any.whl.metadata (10 kB)\n",
      "Requirement already satisfied: fire>=0.4.0 in c:\\users\\reval\\appdata\\roaming\\python\\python38\\site-packages (from deepface) (0.6.0)\n",
      "Requirement already satisfied: gunicorn>=20.1.0 in c:\\users\\reval\\appdata\\roaming\\python\\python38\\site-packages (from deepface) (22.0.0)\n",
      "Requirement already satisfied: six in c:\\users\\reval\\appdata\\roaming\\python\\python38\\site-packages (from fire>=0.4.0->deepface) (1.16.0)\n",
      "Requirement already satisfied: termcolor in c:\\users\\reval\\appdata\\roaming\\python\\python38\\site-packages (from fire>=0.4.0->deepface) (2.4.0)\n",
      "Requirement already satisfied: Werkzeug>=3.0.0 in c:\\users\\reval\\appdata\\roaming\\python\\python38\\site-packages (from Flask>=1.1.2->deepface) (3.0.3)\n",
      "Requirement already satisfied: Jinja2>=3.1.2 in c:\\users\\reval\\appdata\\roaming\\python\\python38\\site-packages (from Flask>=1.1.2->deepface) (3.1.4)\n",
      "Requirement already satisfied: itsdangerous>=2.1.2 in c:\\users\\reval\\appdata\\roaming\\python\\python38\\site-packages (from Flask>=1.1.2->deepface) (2.2.0)\n",
      "Requirement already satisfied: click>=8.1.3 in c:\\users\\reval\\appdata\\roaming\\python\\python38\\site-packages (from Flask>=1.1.2->deepface) (8.1.7)\n",
      "Requirement already satisfied: blinker>=1.6.2 in c:\\users\\reval\\appdata\\roaming\\python\\python38\\site-packages (from Flask>=1.1.2->deepface) (1.8.2)\n",
      "Requirement already satisfied: importlib-metadata>=3.6.0 in c:\\users\\reval\\appdata\\roaming\\python\\python38\\site-packages (from Flask>=1.1.2->deepface) (7.1.0)\n",
      "Requirement already satisfied: beautifulsoup4 in c:\\users\\reval\\appdata\\roaming\\python\\python38\\site-packages (from gdown>=3.10.1->deepface) (4.12.3)\n",
      "Requirement already satisfied: filelock in c:\\users\\reval\\appdata\\roaming\\python\\python38\\site-packages (from gdown>=3.10.1->deepface) (3.15.4)\n",
      "Requirement already satisfied: packaging in c:\\users\\reval\\appdata\\roaming\\python\\python38\\site-packages (from gunicorn>=20.1.0->deepface) (24.0)\n",
      "Requirement already satisfied: python-dateutil>=2.8.2 in c:\\users\\reval\\appdata\\roaming\\python\\python38\\site-packages (from pandas>=0.23.4->deepface) (2.9.0.post0)\n",
      "Requirement already satisfied: pytz>=2020.1 in c:\\users\\reval\\appdata\\roaming\\python\\python38\\site-packages (from pandas>=0.23.4->deepface) (2024.1)\n",
      "Requirement already satisfied: tzdata>=2022.1 in c:\\users\\reval\\appdata\\roaming\\python\\python38\\site-packages (from pandas>=0.23.4->deepface) (2024.1)\n",
      "Requirement already satisfied: charset-normalizer<4,>=2 in c:\\users\\reval\\appdata\\roaming\\python\\python38\\site-packages (from requests>=2.27.1->deepface) (3.3.2)\n",
      "Requirement already satisfied: idna<4,>=2.5 in c:\\program files\\python38\\lib\\site-packages (from requests>=2.27.1->deepface) (3.7)\n",
      "Requirement already satisfied: urllib3<3,>=1.21.1 in c:\\program files\\python38\\lib\\site-packages (from requests>=2.27.1->deepface) (2.2.1)\n",
      "Requirement already satisfied: certifi>=2017.4.17 in c:\\program files\\python38\\lib\\site-packages (from requests>=2.27.1->deepface) (2024.2.2)\n",
      "INFO: pip is looking at multiple versions of tensorflow to determine which version is compatible with other requirements. This could take a while.\n",
      "Collecting tensorflow>=1.9.0 (from deepface)\n",
      "  Using cached tensorflow-2.13.0-cp38-cp38-win_amd64.whl.metadata (2.6 kB)\n",
      "Requirement already satisfied: tensorflow-intel==2.13.0 in c:\\users\\reval\\appdata\\roaming\\python\\python38\\site-packages (from tensorflow>=1.9.0->deepface) (2.13.0)\n",
      "Requirement already satisfied: absl-py>=1.0.0 in c:\\users\\reval\\appdata\\roaming\\python\\python38\\site-packages (from tensorflow-intel==2.13.0->tensorflow>=1.9.0->deepface) (2.1.0)\n",
      "Requirement already satisfied: astunparse>=1.6.0 in c:\\users\\reval\\appdata\\roaming\\python\\python38\\site-packages (from tensorflow-intel==2.13.0->tensorflow>=1.9.0->deepface) (1.6.3)\n",
      "Requirement already satisfied: flatbuffers>=23.1.21 in c:\\users\\reval\\appdata\\roaming\\python\\python38\\site-packages (from tensorflow-intel==2.13.0->tensorflow>=1.9.0->deepface) (24.3.25)\n",
      "Requirement already satisfied: gast<=0.4.0,>=0.2.1 in c:\\users\\reval\\appdata\\roaming\\python\\python38\\site-packages (from tensorflow-intel==2.13.0->tensorflow>=1.9.0->deepface) (0.4.0)\n",
      "Requirement already satisfied: google-pasta>=0.1.1 in c:\\users\\reval\\appdata\\roaming\\python\\python38\\site-packages (from tensorflow-intel==2.13.0->tensorflow>=1.9.0->deepface) (0.2.0)\n",
      "Requirement already satisfied: h5py>=2.9.0 in c:\\users\\reval\\appdata\\roaming\\python\\python38\\site-packages (from tensorflow-intel==2.13.0->tensorflow>=1.9.0->deepface) (3.11.0)\n",
      "Requirement already satisfied: libclang>=13.0.0 in c:\\users\\reval\\appdata\\roaming\\python\\python38\\site-packages (from tensorflow-intel==2.13.0->tensorflow>=1.9.0->deepface) (18.1.1)\n",
      "Requirement already satisfied: opt-einsum>=2.3.2 in c:\\users\\reval\\appdata\\roaming\\python\\python38\\site-packages (from tensorflow-intel==2.13.0->tensorflow>=1.9.0->deepface) (3.3.0)\n",
      "Requirement already satisfied: protobuf!=4.21.0,!=4.21.1,!=4.21.2,!=4.21.3,!=4.21.4,!=4.21.5,<5.0.0dev,>=3.20.3 in c:\\users\\reval\\appdata\\roaming\\python\\python38\\site-packages (from tensorflow-intel==2.13.0->tensorflow>=1.9.0->deepface) (4.25.4)\n",
      "Requirement already satisfied: setuptools in c:\\program files\\python38\\lib\\site-packages (from tensorflow-intel==2.13.0->tensorflow>=1.9.0->deepface) (41.2.0)\n",
      "Requirement already satisfied: typing-extensions<4.6.0,>=3.6.6 in c:\\users\\reval\\appdata\\roaming\\python\\python38\\site-packages (from tensorflow-intel==2.13.0->tensorflow>=1.9.0->deepface) (4.5.0)\n",
      "Requirement already satisfied: wrapt>=1.11.0 in c:\\users\\reval\\appdata\\roaming\\python\\python38\\site-packages (from tensorflow-intel==2.13.0->tensorflow>=1.9.0->deepface) (1.16.0)\n",
      "Requirement already satisfied: grpcio<2.0,>=1.24.3 in c:\\users\\reval\\appdata\\roaming\\python\\python38\\site-packages (from tensorflow-intel==2.13.0->tensorflow>=1.9.0->deepface) (1.65.1)\n",
      "Requirement already satisfied: tensorboard<2.14,>=2.13 in c:\\users\\reval\\appdata\\roaming\\python\\python38\\site-packages (from tensorflow-intel==2.13.0->tensorflow>=1.9.0->deepface) (2.13.0)\n",
      "Requirement already satisfied: tensorflow-estimator<2.14,>=2.13.0 in c:\\users\\reval\\appdata\\roaming\\python\\python38\\site-packages (from tensorflow-intel==2.13.0->tensorflow>=1.9.0->deepface) (2.13.0)\n",
      "Requirement already satisfied: tensorflow-io-gcs-filesystem>=0.23.1 in c:\\users\\reval\\appdata\\roaming\\python\\python38\\site-packages (from tensorflow-intel==2.13.0->tensorflow>=1.9.0->deepface) (0.31.0)\n",
      "Requirement already satisfied: colorama in c:\\users\\reval\\appdata\\roaming\\python\\python38\\site-packages (from tqdm>=4.30.0->deepface) (0.4.6)\n",
      "Requirement already satisfied: zipp>=0.5 in c:\\users\\reval\\appdata\\roaming\\python\\python38\\site-packages (from importlib-metadata>=3.6.0->Flask>=1.1.2->deepface) (3.18.2)\n",
      "Requirement already satisfied: MarkupSafe>=2.0 in c:\\users\\reval\\appdata\\roaming\\python\\python38\\site-packages (from Jinja2>=3.1.2->Flask>=1.1.2->deepface) (2.1.5)\n",
      "Requirement already satisfied: soupsieve>1.2 in c:\\users\\reval\\appdata\\roaming\\python\\python38\\site-packages (from beautifulsoup4->gdown>=3.10.1->deepface) (2.5)\n",
      "Requirement already satisfied: PySocks!=1.5.7,>=1.5.6 in c:\\program files\\python38\\lib\\site-packages (from requests[socks]->gdown>=3.10.1->deepface) (1.7.1)\n",
      "Requirement already satisfied: wheel<1.0,>=0.23.0 in c:\\users\\reval\\appdata\\roaming\\python\\python38\\site-packages (from astunparse>=1.6.0->tensorflow-intel==2.13.0->tensorflow>=1.9.0->deepface) (0.43.0)\n",
      "Requirement already satisfied: google-auth<3,>=1.6.3 in c:\\users\\reval\\appdata\\roaming\\python\\python38\\site-packages (from tensorboard<2.14,>=2.13->tensorflow-intel==2.13.0->tensorflow>=1.9.0->deepface) (2.32.0)\n",
      "Requirement already satisfied: google-auth-oauthlib<1.1,>=0.5 in c:\\users\\reval\\appdata\\roaming\\python\\python38\\site-packages (from tensorboard<2.14,>=2.13->tensorflow-intel==2.13.0->tensorflow>=1.9.0->deepface) (1.0.0)\n",
      "Requirement already satisfied: markdown>=2.6.8 in c:\\users\\reval\\appdata\\roaming\\python\\python38\\site-packages (from tensorboard<2.14,>=2.13->tensorflow-intel==2.13.0->tensorflow>=1.9.0->deepface) (3.6)\n",
      "Requirement already satisfied: tensorboard-data-server<0.8.0,>=0.7.0 in c:\\users\\reval\\appdata\\roaming\\python\\python38\\site-packages (from tensorboard<2.14,>=2.13->tensorflow-intel==2.13.0->tensorflow>=1.9.0->deepface) (0.7.2)\n",
      "Requirement already satisfied: cachetools<6.0,>=2.0.0 in c:\\users\\reval\\appdata\\roaming\\python\\python38\\site-packages (from google-auth<3,>=1.6.3->tensorboard<2.14,>=2.13->tensorflow-intel==2.13.0->tensorflow>=1.9.0->deepface) (5.4.0)\n",
      "Requirement already satisfied: pyasn1-modules>=0.2.1 in c:\\users\\reval\\appdata\\roaming\\python\\python38\\site-packages (from google-auth<3,>=1.6.3->tensorboard<2.14,>=2.13->tensorflow-intel==2.13.0->tensorflow>=1.9.0->deepface) (0.4.0)\n",
      "Requirement already satisfied: rsa<5,>=3.1.4 in c:\\users\\reval\\appdata\\roaming\\python\\python38\\site-packages (from google-auth<3,>=1.6.3->tensorboard<2.14,>=2.13->tensorflow-intel==2.13.0->tensorflow>=1.9.0->deepface) (4.9)\n",
      "Requirement already satisfied: requests-oauthlib>=0.7.0 in c:\\users\\reval\\appdata\\roaming\\python\\python38\\site-packages (from google-auth-oauthlib<1.1,>=0.5->tensorboard<2.14,>=2.13->tensorflow-intel==2.13.0->tensorflow>=1.9.0->deepface) (2.0.0)\n",
      "Requirement already satisfied: pyasn1<0.7.0,>=0.4.6 in c:\\users\\reval\\appdata\\roaming\\python\\python38\\site-packages (from pyasn1-modules>=0.2.1->google-auth<3,>=1.6.3->tensorboard<2.14,>=2.13->tensorflow-intel==2.13.0->tensorflow>=1.9.0->deepface) (0.6.0)\n",
      "Requirement already satisfied: oauthlib>=3.0.0 in c:\\users\\reval\\appdata\\roaming\\python\\python38\\site-packages (from requests-oauthlib>=0.7.0->google-auth-oauthlib<1.1,>=0.5->tensorboard<2.14,>=2.13->tensorflow-intel==2.13.0->tensorflow>=1.9.0->deepface) (3.2.2)\n",
      "Using cached deepface-0.0.92-py3-none-any.whl (105 kB)\n",
      "Using cached retina_face-0.0.17-py3-none-any.whl (25 kB)\n",
      "Using cached tensorflow-2.13.0-cp38-cp38-win_amd64.whl (1.9 kB)\n",
      "Installing collected packages: tensorflow, retina-face, deepface\n",
      "Successfully installed deepface-0.0.92 retina-face-0.0.17 tensorflow-2.13.0\n",
      "Note: you may need to restart the kernel to use updated packages.\n"
     ]
    }
   ],
   "source": [
    "pip install deepface"
   ]
  },
  {
   "cell_type": "code",
   "execution_count": null,
   "id": "e59c3491-cb69-43a8-9e02-f0263cb04fb4",
   "metadata": {},
   "outputs": [],
   "source": []
  }
 ],
 "metadata": {
  "kernelspec": {
   "display_name": "Python 3 (ipykernel)",
   "language": "python",
   "name": "python3"
  },
  "language_info": {
   "codemirror_mode": {
    "name": "ipython",
    "version": 3
   },
   "file_extension": ".py",
   "mimetype": "text/x-python",
   "name": "python",
   "nbconvert_exporter": "python",
   "pygments_lexer": "ipython3",
   "version": "3.8.2"
  }
 },
 "nbformat": 4,
 "nbformat_minor": 5
}
